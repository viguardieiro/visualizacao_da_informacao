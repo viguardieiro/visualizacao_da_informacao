{
 "cells": [
  {
   "cell_type": "markdown",
   "metadata": {},
   "source": [
    "# Trabalho Final - Visualização da Informação\n",
    "\n",
    "## Visualização de múltiplas métricas de modelos de Machine Learning\n",
    "\n",
    "**Aluna:** Vitória Guardieiro"
   ]
  },
  {
   "cell_type": "markdown",
   "metadata": {},
   "source": [
    "A ideia deste projeto é representar visualmente valores obtidos para múltiplas métricas extraídas de um conjunto de modelos de Machine Learning com o objetivo de consguir compará-los e identificar padrões neles. Ela surgiu a partir de experimentos que realizei no meu Trabalho de Conclusão de Curso, onde propus duas estratégias para o treinamento de modelos de Machine Learning minimizando a discriminação gerada por eles ao mesmo tempo maximizando desempenho.\n",
    "\n",
    "Como um dos experimentos feitos para avaliar as estratégias propostas, comparei os resultados obtidos para quatro métricas diferentes, sendo uma de desempenho (acurácia) e três de discriminação (paridade demográfica, igualdade de oportunidade e coeficiente de variação), ao tentar otimizar individualmente cada uma das métricas, comparando os resultados obtidos para o mesmo conjunto de dados para cinco outras estratégias mais utilizadas da área de discriminação em inteligência artificial.\n",
    "\n",
    "Em geral, os trabalhos que realizam comparações desta forma reportam os resultados apenas em tabelas e, por conta disso, pensei que poderia fazer da mesma forma para o meu TCC. Entretanto, no fim do experimento eu estava comparando  28  modelos diferentes  ((2 meus+5 comparados)⋅4 métricas otimizadas para cada um)  e cada um dos  28  possuindo  4  valores diferentes, um para cada métrica. A seguir apresento a tabela com eles.\n",
    "\n",
    "Com tantos valores assim a serem comparados, é bastante cansativo e até mesmo difícil conseguir comparar e extrair padrões dos dados em tabela, então precisei encontrar alguma forma de representar esses dados num formato mais digerível.\n",
    "\n",
    "Para conhecer um pouco mais sobre as pesquisas que focam na discriminação de modelos de machine learning, sugiro o artigo: https://towardsdatascience.com/a-tutorial-on-fairness-in-machine-learning-3ff8ba1040cb"
   ]
  },
  {
   "cell_type": "markdown",
   "metadata": {},
   "source": [
    "# 1. Os dados"
   ]
  },
  {
   "cell_type": "markdown",
   "metadata": {},
   "source": [
    "Como explicado na introdução, os dados que serão visualizados estão nessa tabela 7x4x4, contendo 7 estratégias de modelagem, cada uma com 4 modelos diferentes e para cada modelo, 4 valores que são os resultados obtidos para cada métrica escolhida."
   ]
  },
  {
   "cell_type": "code",
   "execution_count": 3,
   "metadata": {},
   "outputs": [
    {
     "data": {
      "text/html": [
       "<div>\n",
       "<style scoped>\n",
       "    .dataframe tbody tr th:only-of-type {\n",
       "        vertical-align: middle;\n",
       "    }\n",
       "\n",
       "    .dataframe tbody tr th {\n",
       "        vertical-align: top;\n",
       "    }\n",
       "\n",
       "    .dataframe thead th {\n",
       "        text-align: right;\n",
       "    }\n",
       "</style>\n",
       "<table border=\"1\" class=\"dataframe\">\n",
       "  <thead>\n",
       "    <tr style=\"text-align: right;\">\n",
       "      <th></th>\n",
       "      <th></th>\n",
       "      <th>accuracy</th>\n",
       "      <th>equal_opportunity</th>\n",
       "      <th>p_percent</th>\n",
       "      <th>c_variation</th>\n",
       "    </tr>\n",
       "    <tr>\n",
       "      <th>method</th>\n",
       "      <th>metric</th>\n",
       "      <th></th>\n",
       "      <th></th>\n",
       "      <th></th>\n",
       "      <th></th>\n",
       "    </tr>\n",
       "  </thead>\n",
       "  <tbody>\n",
       "    <tr>\n",
       "      <th rowspan=\"4\" valign=\"top\">LogReg</th>\n",
       "      <th>accuracy</th>\n",
       "      <td>0.613333</td>\n",
       "      <td>0.950782</td>\n",
       "      <td>0.809045</td>\n",
       "      <td>0.840284</td>\n",
       "    </tr>\n",
       "    <tr>\n",
       "      <th>equal_opportunity</th>\n",
       "      <td>0.598095</td>\n",
       "      <td>0.933886</td>\n",
       "      <td>0.812121</td>\n",
       "      <td>0.793304</td>\n",
       "    </tr>\n",
       "    <tr>\n",
       "      <th>p_percent</th>\n",
       "      <td>0.592381</td>\n",
       "      <td>0.949041</td>\n",
       "      <td>0.911480</td>\n",
       "      <td>0.724168</td>\n",
       "    </tr>\n",
       "    <tr>\n",
       "      <th>c_variation</th>\n",
       "      <td>0.575238</td>\n",
       "      <td>0.961212</td>\n",
       "      <td>0.991262</td>\n",
       "      <td>0.542280</td>\n",
       "    </tr>\n",
       "    <tr>\n",
       "      <th rowspan=\"4\" valign=\"top\">RegEqual</th>\n",
       "      <th>accuracy</th>\n",
       "      <td>0.613333</td>\n",
       "      <td>0.935186</td>\n",
       "      <td>0.806791</td>\n",
       "      <td>0.857412</td>\n",
       "    </tr>\n",
       "    <tr>\n",
       "      <th>equal_opportunity</th>\n",
       "      <td>0.594286</td>\n",
       "      <td>0.976700</td>\n",
       "      <td>0.921010</td>\n",
       "      <td>0.659565</td>\n",
       "    </tr>\n",
       "    <tr>\n",
       "      <th>p_percent</th>\n",
       "      <td>0.586667</td>\n",
       "      <td>0.956499</td>\n",
       "      <td>0.910672</td>\n",
       "      <td>0.672421</td>\n",
       "    </tr>\n",
       "    <tr>\n",
       "      <th>c_variation</th>\n",
       "      <td>0.567619</td>\n",
       "      <td>0.961341</td>\n",
       "      <td>0.990279</td>\n",
       "      <td>0.586062</td>\n",
       "    </tr>\n",
       "    <tr>\n",
       "      <th rowspan=\"4\" valign=\"top\">RegDemo</th>\n",
       "      <th>accuracy</th>\n",
       "      <td>0.601905</td>\n",
       "      <td>0.899665</td>\n",
       "      <td>0.775477</td>\n",
       "      <td>0.866606</td>\n",
       "    </tr>\n",
       "    <tr>\n",
       "      <th>equal_opportunity</th>\n",
       "      <td>0.571429</td>\n",
       "      <td>0.995455</td>\n",
       "      <td>0.997101</td>\n",
       "      <td>0.494407</td>\n",
       "    </tr>\n",
       "    <tr>\n",
       "      <th>p_percent</th>\n",
       "      <td>0.579048</td>\n",
       "      <td>0.995161</td>\n",
       "      <td>0.965217</td>\n",
       "      <td>0.560137</td>\n",
       "    </tr>\n",
       "    <tr>\n",
       "      <th>c_variation</th>\n",
       "      <td>0.571429</td>\n",
       "      <td>1.000000</td>\n",
       "      <td>1.000000</td>\n",
       "      <td>0.489898</td>\n",
       "    </tr>\n",
       "    <tr>\n",
       "      <th rowspan=\"4\" valign=\"top\">RegRewe</th>\n",
       "      <th>accuracy</th>\n",
       "      <td>0.598095</td>\n",
       "      <td>0.930951</td>\n",
       "      <td>0.872657</td>\n",
       "      <td>0.742556</td>\n",
       "    </tr>\n",
       "    <tr>\n",
       "      <th>equal_opportunity</th>\n",
       "      <td>0.588571</td>\n",
       "      <td>0.886955</td>\n",
       "      <td>0.887096</td>\n",
       "      <td>0.800722</td>\n",
       "    </tr>\n",
       "    <tr>\n",
       "      <th>p_percent</th>\n",
       "      <td>0.580952</td>\n",
       "      <td>0.916211</td>\n",
       "      <td>0.936796</td>\n",
       "      <td>0.754104</td>\n",
       "    </tr>\n",
       "    <tr>\n",
       "      <th>c_variation</th>\n",
       "      <td>0.573333</td>\n",
       "      <td>0.957618</td>\n",
       "      <td>0.991304</td>\n",
       "      <td>0.546286</td>\n",
       "    </tr>\n",
       "    <tr>\n",
       "      <th rowspan=\"4\" valign=\"top\">Minimax</th>\n",
       "      <th>accuracy</th>\n",
       "      <td>0.596190</td>\n",
       "      <td>0.830737</td>\n",
       "      <td>0.707518</td>\n",
       "      <td>0.867499</td>\n",
       "    </tr>\n",
       "    <tr>\n",
       "      <th>equal_opportunity</th>\n",
       "      <td>0.580952</td>\n",
       "      <td>0.995161</td>\n",
       "      <td>0.956522</td>\n",
       "      <td>0.559766</td>\n",
       "    </tr>\n",
       "    <tr>\n",
       "      <th>p_percent</th>\n",
       "      <td>0.569524</td>\n",
       "      <td>0.998347</td>\n",
       "      <td>0.991304</td>\n",
       "      <td>0.564718</td>\n",
       "    </tr>\n",
       "    <tr>\n",
       "      <th>c_variation</th>\n",
       "      <td>0.565714</td>\n",
       "      <td>0.971429</td>\n",
       "      <td>0.992857</td>\n",
       "      <td>0.542244</td>\n",
       "    </tr>\n",
       "    <tr>\n",
       "      <th rowspan=\"4\" valign=\"top\">RegMoo</th>\n",
       "      <th>accuracy</th>\n",
       "      <td>0.598095</td>\n",
       "      <td>0.945850</td>\n",
       "      <td>0.880283</td>\n",
       "      <td>0.842045</td>\n",
       "    </tr>\n",
       "    <tr>\n",
       "      <th>equal_opportunity</th>\n",
       "      <td>0.561905</td>\n",
       "      <td>0.836777</td>\n",
       "      <td>0.834408</td>\n",
       "      <td>0.907394</td>\n",
       "    </tr>\n",
       "    <tr>\n",
       "      <th>p_percent</th>\n",
       "      <td>0.596190</td>\n",
       "      <td>0.908482</td>\n",
       "      <td>0.858862</td>\n",
       "      <td>0.853371</td>\n",
       "    </tr>\n",
       "    <tr>\n",
       "      <th>c_variation</th>\n",
       "      <td>0.577143</td>\n",
       "      <td>0.895238</td>\n",
       "      <td>0.962909</td>\n",
       "      <td>0.751811</td>\n",
       "    </tr>\n",
       "    <tr>\n",
       "      <th rowspan=\"4\" valign=\"top\">RegEqMoo</th>\n",
       "      <th>accuracy</th>\n",
       "      <td>0.603810</td>\n",
       "      <td>0.685298</td>\n",
       "      <td>0.598105</td>\n",
       "      <td>0.725476</td>\n",
       "    </tr>\n",
       "    <tr>\n",
       "      <th>equal_opportunity</th>\n",
       "      <td>0.571429</td>\n",
       "      <td>1.000000</td>\n",
       "      <td>1.000000</td>\n",
       "      <td>0.489898</td>\n",
       "    </tr>\n",
       "    <tr>\n",
       "      <th>p_percent</th>\n",
       "      <td>0.571429</td>\n",
       "      <td>1.000000</td>\n",
       "      <td>1.000000</td>\n",
       "      <td>0.489898</td>\n",
       "    </tr>\n",
       "    <tr>\n",
       "      <th>c_variation</th>\n",
       "      <td>0.571429</td>\n",
       "      <td>1.000000</td>\n",
       "      <td>1.000000</td>\n",
       "      <td>0.489898</td>\n",
       "    </tr>\n",
       "  </tbody>\n",
       "</table>\n",
       "</div>"
      ],
      "text/plain": [
       "                            accuracy  equal_opportunity  p_percent  \\\n",
       "method   metric                                                      \n",
       "LogReg   accuracy           0.613333           0.950782   0.809045   \n",
       "         equal_opportunity  0.598095           0.933886   0.812121   \n",
       "         p_percent          0.592381           0.949041   0.911480   \n",
       "         c_variation        0.575238           0.961212   0.991262   \n",
       "RegEqual accuracy           0.613333           0.935186   0.806791   \n",
       "         equal_opportunity  0.594286           0.976700   0.921010   \n",
       "         p_percent          0.586667           0.956499   0.910672   \n",
       "         c_variation        0.567619           0.961341   0.990279   \n",
       "RegDemo  accuracy           0.601905           0.899665   0.775477   \n",
       "         equal_opportunity  0.571429           0.995455   0.997101   \n",
       "         p_percent          0.579048           0.995161   0.965217   \n",
       "         c_variation        0.571429           1.000000   1.000000   \n",
       "RegRewe  accuracy           0.598095           0.930951   0.872657   \n",
       "         equal_opportunity  0.588571           0.886955   0.887096   \n",
       "         p_percent          0.580952           0.916211   0.936796   \n",
       "         c_variation        0.573333           0.957618   0.991304   \n",
       "Minimax  accuracy           0.596190           0.830737   0.707518   \n",
       "         equal_opportunity  0.580952           0.995161   0.956522   \n",
       "         p_percent          0.569524           0.998347   0.991304   \n",
       "         c_variation        0.565714           0.971429   0.992857   \n",
       "RegMoo   accuracy           0.598095           0.945850   0.880283   \n",
       "         equal_opportunity  0.561905           0.836777   0.834408   \n",
       "         p_percent          0.596190           0.908482   0.858862   \n",
       "         c_variation        0.577143           0.895238   0.962909   \n",
       "RegEqMoo accuracy           0.603810           0.685298   0.598105   \n",
       "         equal_opportunity  0.571429           1.000000   1.000000   \n",
       "         p_percent          0.571429           1.000000   1.000000   \n",
       "         c_variation        0.571429           1.000000   1.000000   \n",
       "\n",
       "                            c_variation  \n",
       "method   metric                          \n",
       "LogReg   accuracy              0.840284  \n",
       "         equal_opportunity     0.793304  \n",
       "         p_percent             0.724168  \n",
       "         c_variation           0.542280  \n",
       "RegEqual accuracy              0.857412  \n",
       "         equal_opportunity     0.659565  \n",
       "         p_percent             0.672421  \n",
       "         c_variation           0.586062  \n",
       "RegDemo  accuracy              0.866606  \n",
       "         equal_opportunity     0.494407  \n",
       "         p_percent             0.560137  \n",
       "         c_variation           0.489898  \n",
       "RegRewe  accuracy              0.742556  \n",
       "         equal_opportunity     0.800722  \n",
       "         p_percent             0.754104  \n",
       "         c_variation           0.546286  \n",
       "Minimax  accuracy              0.867499  \n",
       "         equal_opportunity     0.559766  \n",
       "         p_percent             0.564718  \n",
       "         c_variation           0.542244  \n",
       "RegMoo   accuracy              0.842045  \n",
       "         equal_opportunity     0.907394  \n",
       "         p_percent             0.853371  \n",
       "         c_variation           0.751811  \n",
       "RegEqMoo accuracy              0.725476  \n",
       "         equal_opportunity     0.489898  \n",
       "         p_percent             0.489898  \n",
       "         c_variation           0.489898  "
      ]
     },
     "execution_count": 3,
     "metadata": {},
     "output_type": "execute_result"
    }
   ],
   "source": [
    "import pandas as pd\n",
    "\n",
    "german_result_metrics = pd.read_csv('Dados/german_result_metrics.csv')\n",
    "german_result_metrics = german_result_metrics.rename(columns={'Unnamed: 0':'method', 'Unnamed: 1':'metric'})\n",
    "german_result_metrics = german_result_metrics.set_index(['method', 'metric'])\n",
    "\n",
    "german_result_metrics"
   ]
  },
  {
   "cell_type": "markdown",
   "metadata": {},
   "source": [
    "Dentre as quatros métricas, em três delas queremos maximizar o valor obtido, enquanto que em uma (coeficiente de variação) o objetivo é minimizar."
   ]
  },
  {
   "cell_type": "markdown",
   "metadata": {},
   "source": [
    "# 2. Visualizações"
   ]
  },
  {
   "cell_type": "markdown",
   "metadata": {},
   "source": [
    "## 2.1. Gráficos de coordenadas paralelas"
   ]
  },
  {
   "cell_type": "markdown",
   "metadata": {},
   "source": [
    "A primeira tentativa de visualização foi a seguinte, utilizando do formato de coordenadas paralelas. \n",
    "\n",
    "Nela, cada linha representa um dos 28 modelos e os eixos representam os valores obtidos para as métricas, assim como qual métrica foi otimizada pelo modelo e qual a estratégia foi utilizada para gerá-lo.\n",
    "\n",
    "\n",
    "![Coordenadas Paralelas - Tentativa 1](Visualizações/CoordParalelas1.png)\n",
    "\n",
    "Alguns problemas que foram percebidos nessa visualização foram:\n",
    "\n",
    "- Informações duplicadas no eixo \"Modelo\" e na cor\n",
    "- Dá a impressão errada de que as métricas P porcento e Coeficiente de variação são conflitantes, já que em uma queremos maximizar e na outra queremos minimizar\n",
    "- Não é possível observar os resultados de um único modelo, por conta das linhas se encontrarem nos eixos\n",
    "- É difícil identificar até mesmo os padrões entre as estratégias, devido à escolha de cores"
   ]
  },
  {
   "cell_type": "markdown",
   "metadata": {},
   "source": [
    "Por conta disso, refiz a visualização mudando algumas coisas:\n",
    "\n",
    "\n",
    "![Coordenadas Paralelas - Tentativa 2](Visualizações/CoordParalelas2.png)\n",
    "\n",
    "Nela foram resolvidos os problemas de duplicação de informação e da proporcionalidade entre as métricas, mas continua difícil ideentificar um único modelo, assim como o conjunto de modelos de uma estratégia."
   ]
  },
  {
   "cell_type": "markdown",
   "metadata": {},
   "source": [
    "Assim, gerei uma terceira visualização, tentando resolver os problemas restantes.\n",
    "\n",
    "![Coordenadas Paralelas - Tentativa 3](Visualizações/CoordParalelas3.png)\n",
    "\n",
    "Nessa visualização alterei as cores de forma que os modelos propostos no trabalho (ProbMO e ErroMO) ficassem com as cores mais fortes, enquando que os demais modelos ficaram com cores mais claras. Isso facilitou identificar o conjunto de modelos por estratégia, mas não permite a identificação de um único modelo."
   ]
  },
  {
   "cell_type": "markdown",
   "metadata": {},
   "source": [
    "Com o problema de identificação de um único modelo não tendo sido solucionada ainda, decidi testar outro tipo de gráfico para representá-los."
   ]
  },
  {
   "cell_type": "markdown",
   "metadata": {},
   "source": [
    "## 2.2. Gráficos de Radares"
   ]
  },
  {
   "cell_type": "markdown",
   "metadata": {},
   "source": [
    "Assim, tentei abordar a representação por radares. Na primeira visualização, coloquei todos os modelos juntos e removi o eixo que indicava qual métrica era otimizada, substituindo ele pelo estilo da linha.\n",
    "\n",
    "![Radares - Tentativa 1](Visualizações/Radar1.jpg)\n",
    "\n",
    "Desta forma facilita a identificação de um único modelo, desde que ele esteja nas cores mais fortes."
   ]
  },
  {
   "cell_type": "markdown",
   "metadata": {},
   "source": [
    "Uma vantagem bastante importante que reparei nessa visualização em relação à de coordenadas paralelas é que o formato e área dos radares me indicam coisas novas sobre os modelos que a visualização anterior não conseguia indicar. \n",
    "\n",
    "O formato indica o conflito (ou *tradeoof*) entre as métricas para cada modelo, por exemplo o modelo MoProb que otimiza cVar tem quase que a forma de um triângulo, tendo valores para as métricas de discriminação bastante bons, mas o valor para acurácia é bastante baixo, enquanto que o modelo MoProb que otimiza Acc tem uma forma mais parecida com um trapézio, sendo bom em acurácia, mediano em cVar e bastante ruim para as duas outras métricas.\n",
    "\n",
    "Já a área, e não me refiro ao valor dá área, mas sim na comparação entre áreas maiores e menores, me indica o quão diverso um modelo é, o que é uma vantagem bastante importante para os modelos."
   ]
  },
  {
   "attachments": {},
   "cell_type": "markdown",
   "metadata": {},
   "source": [
    "Entretanto, nesse formato de radar com todos os modelos juntos não consigo identificar direito os modelos de cores mais claras. Assim, gerei uma nova visualização, agora separada em quatro radares diferentes, onde cada radar apresenta os melhores modelos em cada uma das métricas.\n",
    "\n",
    "![Radares - Tentativa 2](Visualizações/Radar2.PNG)"
   ]
  },
  {
   "cell_type": "markdown",
   "metadata": {},
   "source": [
    "Com essa visualização, como objetivo foi consguir identificar exatamente cada modelo, tive que mudar as cores novamente, já que as cores claras dificultavam muito a identificação dos modelos.\n",
    "\n",
    "Nessa visualização, embora consiga identificar um único modelo, não consigo identificar padrões entre as estratégias, ou mesmo geral dos modelos. Assim, tentei mais uma visualização."
   ]
  },
  {
   "cell_type": "markdown",
   "metadata": {},
   "source": [
    "![Radares - Tentativa 3](Visualizações/MOProb.png)"
   ]
  },
  {
   "cell_type": "markdown",
   "metadata": {},
   "source": [
    "Nessa última visualização separei cada modelo em um radar, fazendo uma matriz de radares, com a linha indicando qual a métrica otimizada e qual a estratégia utilizada para o treinamento do modelo. Tive que mudar a cor dos modelos EqOp, que estavam em amarelo e não era possível identificar os limites dos radares. Decidi colorir o interior dos radares, ao contrário da visuzalição anterior, por isso não atrapalhar na visualização dos demais modelos e, principalmente, por ressaltar as características de forma e área. \n",
    "\n",
    "Removi as informações de eixo por elas poluírem bastante a visualização, além de serem repetitivas. No TCC em si coloquei separado um único radar com os labels nos eixos para ser usado como guia para todos os demais.\n",
    "\n",
    "Aqui consigo identificar cada modelo, mas não perco a informação e o padrão gerado por todos os modelos e pelos modelos de cada estratégia.\n",
    "\n",
    "No fim, utilizei os dois últimos gráficos no meu TCC, por mostrarem tanto a comparação direta entre os melhores modelos para cada métrica e também os padrões dos modelos."
   ]
  },
  {
   "cell_type": "markdown",
   "metadata": {},
   "source": [
    "## 3. Para não desperdiçar trabalho"
   ]
  },
  {
   "cell_type": "markdown",
   "metadata": {},
   "source": [
    "Embora não tenha utilizado os gráficos de coordenadas paralelas para comparar os modelos da forma que mostrei acima, no meu projeo realizei outros dois experimentos que me permitiram utilizar os gráficos de coordenadas paralelas."
   ]
  },
  {
   "cell_type": "markdown",
   "metadata": {},
   "source": [
    "Em um deles, quis mostrar a diversidade de modelos que cada estratégia conseguia produzir para uma mesma base de dados. Assim, utilizei o gráfico de coordenadas paralelas para mostrar a diversidade nas métricas, colocando uma estratégia por gráfico.\n",
    "\n",
    "![CoordParExp2](Visualizações/CoordParExp2.PNG)\n",
    "\n",
    "Como o objetivo aqui não era identificar ou comparar os modelos, mas sim visualizar o conjunto deles, essa visualização me permitiu fazer isso de forma melhor que os radares, por ficar mais clara a visualização dos conjuntos."
   ]
  },
  {
   "cell_type": "markdown",
   "metadata": {},
   "source": [
    "Por fim, no último experimento utilizei tanto de coordenadas paralelas quanto de radares. Nele explorei uma estratégia de ensemble de modelos de machine learning, que basicamente cria um novo modelo a partir de um conjunto de modelos mais simples, fazendo uma votação entre eles. O gráfico de coordenadas paralelas me permite selecionar os modelos de acordo com intervalos das métricas, então testei isso com o ensemble."
   ]
  },
  {
   "cell_type": "markdown",
   "metadata": {},
   "source": [
    "Na primeira parte, gerei o ensemble utilizando todos os modelos da estratégia multi-objetiva de erros. Comperei ele com os melhores modelos para cada métrica.\n",
    "\n",
    "![Ensemble1](Visualizações/Ensemble1.PNG)"
   ]
  },
  {
   "cell_type": "markdown",
   "metadata": {},
   "source": [
    "Depois, selecionei os modelos com melhores valores de acurácia, para ver se o ensemble melhorava nessa métrica.\n",
    "\n",
    "![Ensemble2](Visualizações/Ensemble2.PNG)"
   ]
  },
  {
   "cell_type": "markdown",
   "metadata": {},
   "source": [
    "Por fim, selecionei os melhores modelos tanto em acurácia quanto em Igualdade de Oportunidade, o que me permitiu ter um modelo de ensemble bom em todas as métricas.\n",
    "\n",
    "![Ensemble1](Visualizações/Ensemble3.PNG)"
   ]
  },
  {
   "cell_type": "markdown",
   "metadata": {},
   "source": [
    "# 4. Conclusões"
   ]
  },
  {
   "cell_type": "markdown",
   "metadata": {},
   "source": [
    "Este trabalho foi bastante interessante para explorar as vantagens e desvantagens de dois tipos de gráficos que parecem simples e que, inicialmente, possuem poucas diferentes entre eles, mas que podem apresentar informações bastante diferentes com essa simples diferença de um ser o polar do outro. Embora seja uma aplicação muito específica, muito provavelmente utilizarei as estratégias de visualização que explorei aqui em outros trabalhos futuros.\n",
    "\n",
    "Uma conclusão que obtive com este trabalho é que os gráficos de coordenadas paralelas parecem ser melhores para identificar padrões presentes em um conjunto de dados, mas não para visualizar um único modelo ou comparar dois modelos, sendo o gráfico de radar melhor para esse objtivo. Além disso, percebi como, em algumas situações, gerar gráficos separados para cada dado pode nos dar mais informações sobre o coletivo deles do que gerar um único gráfico com todos os dados."
   ]
  }
 ],
 "metadata": {
  "kernelspec": {
   "display_name": "Python 3",
   "language": "python",
   "name": "python3"
  },
  "language_info": {
   "codemirror_mode": {
    "name": "ipython",
    "version": 3
   },
   "file_extension": ".py",
   "mimetype": "text/x-python",
   "name": "python",
   "nbconvert_exporter": "python",
   "pygments_lexer": "ipython3",
   "version": "3.6.10"
  }
 },
 "nbformat": 4,
 "nbformat_minor": 4
}
